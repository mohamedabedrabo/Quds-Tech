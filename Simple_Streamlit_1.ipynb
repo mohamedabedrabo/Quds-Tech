{
 "cells": [
  {
   "cell_type": "markdown",
   "id": "35d3b5c9",
   "metadata": {},
   "source": [
    "## 1. Import Libraries:"
   ]
  },
  {
   "cell_type": "code",
   "execution_count": 1,
   "id": "c8f25358",
   "metadata": {},
   "outputs": [],
   "source": [
    "import streamlit as st\n",
    "from streamlit_option_menu import option_menu\n",
    "import numpy as np\n",
    "import pandas as pd"
   ]
  },
  {
   "cell_type": "markdown",
   "id": "138206cd",
   "metadata": {},
   "source": [
    "## 2. Create Sidebar:"
   ]
  },
  {
   "cell_type": "code",
   "execution_count": 2,
   "id": "8f15fabd",
   "metadata": {},
   "outputs": [
    {
     "name": "stderr",
     "output_type": "stream",
     "text": [
      "2023-01-25 12:20:35.067 \n",
      "  \u001b[33m\u001b[1mWarning:\u001b[0m to view this Streamlit app on a browser, run it with the following\n",
      "  command:\n",
      "\n",
      "    streamlit run C:\\Users\\User\\anaconda3\\lib\\site-packages\\ipykernel_launcher.py [ARGUMENTS]\n"
     ]
    }
   ],
   "source": [
    "with st.sidebar:\n",
    "    selected = option_menu('Calculation App',\n",
    "                           ['Addition',\n",
    "                            'Subtraction'],\n",
    "                           \n",
    "                           icons = ['file-plus','file-minus' ],\n",
    "                           \n",
    "                           default_index = 0)"
   ]
  },
  {
   "cell_type": "markdown",
   "id": "966d602a",
   "metadata": {},
   "source": [
    "## 3. Addition Page:"
   ]
  },
  {
   "cell_type": "code",
   "execution_count": null,
   "id": "a2135e54",
   "metadata": {},
   "outputs": [],
   "source": [
    "if (selected == 'Addition'):\n",
    "    \n",
    "    # Page title:\n",
    "    st.title('Addition')\n",
    "    \n",
    "    # Getting input data from the user :\n",
    "    col1, col2 = st.columns(2)\n",
    "    \n",
    "    with col1:\n",
    "        first = st.number_input('First Number')\n",
    "    with col2:\n",
    "        second = st.number_input('Second Number')\n",
    "\n",
    "    \n",
    "    # Prediction Value:\n",
    "    Value = ''\n",
    "    \n",
    "    # Prediction Button:\n",
    "    if st.button('Calculate'):\n",
    "        calculation = first + second\n",
    "\n",
    "    st.success(calculation)"
   ]
  }
 ],
 "metadata": {
  "kernelspec": {
   "display_name": "Python 3",
   "language": "python",
   "name": "python3"
  },
  "language_info": {
   "codemirror_mode": {
    "name": "ipython",
    "version": 3
   },
   "file_extension": ".py",
   "mimetype": "text/x-python",
   "name": "python",
   "nbconvert_exporter": "python",
   "pygments_lexer": "ipython3",
   "version": "3.8.8"
  }
 },
 "nbformat": 4,
 "nbformat_minor": 5
}
